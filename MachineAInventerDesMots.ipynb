{
 "cells": [
  {
   "cell_type": "code",
   "execution_count": 1,
   "metadata": {},
   "outputs": [],
   "source": [
    "import random\n",
    "import numpy as np\n",
    "import pandas as pd"
   ]
  },
  {
   "cell_type": "markdown",
   "metadata": {},
   "source": [
    "# On définit l'alphabet et la taille maximale d'un mot"
   ]
  },
  {
   "cell_type": "code",
   "execution_count": 2,
   "metadata": {},
   "outputs": [],
   "source": [
    "alphabet = \"abcdefghijklmnopqrstuvwxyzàâéèêëîïôùûüÿæœç-\"\n",
    "taillemax = 30"
   ]
  },
  {
   "cell_type": "markdown",
   "metadata": {},
   "source": [
    "# Fonctionnalité 1 : mot aléatoire sans logique"
   ]
  },
  {
   "cell_type": "markdown",
   "metadata": {},
   "source": [
    "#### La fonction creeMotAleatoire permet à partir d'une taille donnée, de créer un mot sans aucune logique en rassemblant des lettres générées aléatoirement de l'alphabet"
   ]
  },
  {
   "cell_type": "code",
   "execution_count": 3,
   "metadata": {},
   "outputs": [],
   "source": [
    "def creeMotAleatoire(taille):\n",
    "    global alphabet\n",
    "    res = \"\"\n",
    "    for i in range(taille):\n",
    "        res += random.choice(alphabet)\n",
    "    return res"
   ]
  },
  {
   "cell_type": "markdown",
   "metadata": {},
   "source": [
    "##### voici un exemple de mot sans logique, généré aléatoirement"
   ]
  },
  {
   "cell_type": "code",
   "execution_count": 4,
   "metadata": {},
   "outputs": [
    {
     "name": "stdout",
     "output_type": "stream",
     "text": [
      "srcùn\n"
     ]
    }
   ],
   "source": [
    "f1_mot = creeMotAleatoire(5)\n",
    "print(f1_mot)"
   ]
  },
  {
   "cell_type": "markdown",
   "metadata": {},
   "source": [
    "# Fonctionnalité 2 : Création de mot avec la méthode des Digrammes"
   ]
  },
  {
   "cell_type": "markdown",
   "metadata": {},
   "source": [
    "### A) Definition des fonctions motDigramme, normaliserDigramme et creerDigramme"
   ]
  },
  {
   "cell_type": "markdown",
   "metadata": {},
   "source": [
    "#### La fonction motDigramme permet de remplir le dataframe à partir d'un mot donné ( sans normalisation )"
   ]
  },
  {
   "cell_type": "code",
   "execution_count": 5,
   "metadata": {},
   "outputs": [],
   "source": [
    "def motDigramme(mot,dataframe):\n",
    "    mot = mot.lower() # met le mot entierement en minuscule\n",
    "    lmot = list(mot) # on convertit le mot en liste de chacun de ses caracteres\n",
    "    lmot = list(set(lmot)) # permet de supprimer les doublons de la liste \n",
    "    dataframe[mot[0]]['debut']+=1\n",
    "    dataframe['fin'][mot[-1:]]+=1\n",
    "    for i in lmot :\n",
    "        for j in range(len(mot)-1) :\n",
    "            if i==mot[j]:\n",
    "                dataframe[mot[j+1]][i] += 1"
   ]
  },
  {
   "cell_type": "markdown",
   "metadata": {},
   "source": [
    "#### La fonction normaliserDigramme permet de normaliser le dataframe, c'est à dire :\n",
    "- On considère une ligne du dataframe\n",
    "- On somme tous les coefficients de la ligne \n",
    "- On divise tous les coefficients de la ligne par le total calculé précédemment\n",
    "- On procède de la même même manière pour chaque ligne"
   ]
  },
  {
   "cell_type": "code",
   "execution_count": 6,
   "metadata": {},
   "outputs": [],
   "source": [
    "def normaliserDigramme(dataframe):\n",
    "    indexs = dataframe.index.values.tolist() \n",
    "    for indexrow in indexs:\n",
    "        somme = dataframe.loc[indexrow].sum() \n",
    "        if somme != 0:\n",
    "            dataframe.loc[indexrow]/= somme\n"
   ]
  },
  {
   "cell_type": "markdown",
   "metadata": {},
   "source": [
    "#### > Il s'agit de la fonction finale, cette fonction permet de créer un digramme normalisé à partir d'un alphabet et d'un dictionnaire de mot ( liste de mots composés exclusivement de lettre de l'alphabet ) <"
   ]
  },
  {
   "cell_type": "code",
   "execution_count": 7,
   "metadata": {},
   "outputs": [],
   "source": [
    "def creerDigramme(dic):\n",
    "    global alphabet\n",
    "    lettres = list(alphabet)\n",
    "    tableau = np.zeros((len(alphabet)+1,len(alphabet)+1))\n",
    "    dataframe = pd.DataFrame(tableau, index = ([\"debut\"] + lettres), columns = (lettres + [\"fin\"]))\n",
    "    for mot in dic :\n",
    "        motDigramme(mot,dataframe)\n",
    "    normaliserDigramme(dataframe)\n",
    "    return(dataframe) # on retourne le digramme fini"
   ]
  },
  {
   "cell_type": "markdown",
   "metadata": {},
   "source": [
    "### B) Définition des fonctions convertirFichier, nettoyerListe, creerDictionnaire"
   ]
  },
  {
   "cell_type": "markdown",
   "metadata": {},
   "source": [
    "#### Ces fonctions permettent de transformer un fichier.txt composé exclusivement de mots séparés par un saut de ligne, en une liste de mots"
   ]
  },
  {
   "cell_type": "code",
   "execution_count": 8,
   "metadata": {},
   "outputs": [],
   "source": [
    "def convertirFichier(chemin):\n",
    "    with open(chemin,\"r\",encoding=\"utf-8\") as fic :\n",
    "        text = fic.read()\n",
    "    return(text.split(\"\\n\")) # on retourne une liste"
   ]
  },
  {
   "cell_type": "code",
   "execution_count": 9,
   "metadata": {},
   "outputs": [],
   "source": [
    "def convertirFichier2(chemin):\n",
    "    fichier = open(chemin,\"r\",encoding=\"utf-8\")\n",
    "    text = fichier.read()\n",
    "    fichier.close()\n",
    "    return(text.split(\"\\n\")) # on retourne une liste"
   ]
  },
  {
   "cell_type": "markdown",
   "metadata": {},
   "source": [
    "#### Cette fonction permet de nettoyer une liste en vérifiant que les mots y figurant ne contiennent que des lettres de l'alphabet "
   ]
  },
  {
   "cell_type": "code",
   "execution_count": 10,
   "metadata": {},
   "outputs": [],
   "source": [
    "def nettoyerListe(liste):\n",
    "    global alphabet \n",
    "    liste = [mot for mot in liste if mot] # on retire les mots vides comme ''\n",
    "    liste = list(set(liste)) # on supprime les doublons\n",
    "    for mot in liste :\n",
    "        if len(mot)>0:\n",
    "            for char in mot.lower() : #parmi les char minuscules contenu dans le mot\n",
    "                #print(char)\n",
    "                if char not in alphabet :\n",
    "                    if mot in liste :\n",
    "                        #print(\"*\")\n",
    "                        liste.remove(mot) # on retire les mots qui contiennent une lettre qui n'est pas dans l'alphabet\n",
    "    return(liste) # on retourne une liste"
   ]
  },
  {
   "cell_type": "code",
   "execution_count": 11,
   "metadata": {},
   "outputs": [],
   "source": [
    "def cleanDic(dic):\n",
    "    suppr = []\n",
    "    res = []\n",
    "    global alphabet\n",
    "\n",
    "\n",
    "    for mot in dic:\n",
    "        ok = True\n",
    "\n",
    "        if len(mot) > 1 and len(mot.split(' ')) == 1:\n",
    "            #mot = enlever_accent(mot)\n",
    "\n",
    "            for c in mot:\n",
    "                if c not in alphabet:\n",
    "                    suppr.append(mot)\n",
    "                    ok = False\n",
    "\n",
    "        else:\n",
    "            suppr.append(mot)\n",
    "            ok = False\n",
    "\n",
    "        if ok:\n",
    "\n",
    "\n",
    "            res.append(mot)\n",
    "\n",
    "    res.sort()\n",
    "    return(res)"
   ]
  },
  {
   "cell_type": "markdown",
   "metadata": {},
   "source": [
    "#### > Il s'agit de la fonction finale, cette fonction permet à partir d'un fichier.txt indiqué, de créer un dictionnaire ( liste de mots ) nettoyée, c'est à dire que les mots ne comportent que des lettres de l'alphabet ) <"
   ]
  },
  {
   "cell_type": "code",
   "execution_count": 12,
   "metadata": {},
   "outputs": [],
   "source": [
    "def creerDictionnaire(chemin):\n",
    "    dic = convertirFichier(chemin)\n",
    "    dic = cleanDic(dic) #On a remplacé nettoyer liste\n",
    "    return(dic)"
   ]
  },
  {
   "cell_type": "markdown",
   "metadata": {},
   "source": [
    "### C) Définition des fonctions sortirLettre et creerMotDigramme"
   ]
  },
  {
   "cell_type": "markdown",
   "metadata": {},
   "source": [
    "#### Cette fonction permet en fonction de notre lettre ( qui peut être a,b,c,... ou même debut ), de générer la lettre suivant à partir des probabilités contenu dans le digramme."
   ]
  },
  {
   "cell_type": "code",
   "execution_count": 13,
   "metadata": {},
   "outputs": [],
   "source": [
    "def sortirLettreAlea(lettre_actuelle,digramme):\n",
    "    listes_des_choix_suivants = digramme.columns.tolist() # on liste toutes les lettres qui peuvent suivre comme a,b,.. et fin\n",
    "    liste_des_proba = digramme.loc[str(lettre_actuelle)].tolist() # on liste les proba liees a chaque choix\n",
    "    lettre_suivante = np.random.choice(listes_des_choix_suivants, p=liste_des_proba) # on pioche une lettre selon les proba\n",
    "    return(lettre_suivante)"
   ]
  },
  {
   "cell_type": "markdown",
   "metadata": {},
   "source": [
    "#### > Cette fonction est la fonction finale de l'exercice, elle permet de générer un mot suivant la méthode des Digramme !"
   ]
  },
  {
   "cell_type": "code",
   "execution_count": 14,
   "metadata": {},
   "outputs": [],
   "source": [
    "def creerMotAleaDigramme(digramme):\n",
    "    global taillemax\n",
    "    res = [sortirLettreAlea('debut',digramme)]\n",
    "    while res[-1] != \"fin\" and len(res[:-1])<= taillemax:\n",
    "        l = sortirLettreAlea(res[-1],digramme)\n",
    "        res.append(l)\n",
    "    res = res[0:-1]\n",
    "    return \"\".join(res)"
   ]
  },
  {
   "cell_type": "markdown",
   "metadata": {},
   "source": [
    "##### Voici un exemple de digramme réalisé :"
   ]
  },
  {
   "cell_type": "code",
   "execution_count": 15,
   "metadata": {
    "scrolled": true
   },
   "outputs": [],
   "source": [
    "# path = 'data/fr/test.txt'\n",
    "# ici les mots contenus sont \"Salut, Arbre, Banane, Joshua, Cem, Mlamali, Mlachahe, Haligur, Said-Salimo, Bonacorsi\"\n",
    "#dictionnaire_dig = creerDictionnaire(path)\n",
    "#dictionnaire_dig "
   ]
  },
  {
   "cell_type": "code",
   "execution_count": 16,
   "metadata": {},
   "outputs": [],
   "source": [
    "#df3_test = creerDigramme(dictionnaire_dig)\n",
    "#df3_test.head()"
   ]
  },
  {
   "cell_type": "markdown",
   "metadata": {},
   "source": [
    "##### et voici 10 mots réalisés suivant l'utilisation du digramme précédent"
   ]
  },
  {
   "cell_type": "code",
   "execution_count": 32,
   "metadata": {
    "scrolled": true
   },
   "outputs": [
    {
     "data": {
      "text/plain": [
       "'\\nfor i in range(10):\\n    f2_mot = creerMotAleaDigramme(df3_test)\\n    f2_mot = f2_mot.capitalize() # Mettre la premiere lettre en majuscule\\n    print(f2_mot)\\n'"
      ]
     },
     "execution_count": 32,
     "metadata": {},
     "output_type": "execute_result"
    }
   ],
   "source": [
    "\"\"\"\n",
    "for i in range(10):\n",
    "    f2_mot = creerMotAleaDigramme(df3_test)\n",
    "    f2_mot = f2_mot.capitalize() # Mettre la premiere lettre en majuscule\n",
    "    print(f2_mot)\n",
    "\"\"\""
   ]
  },
  {
   "cell_type": "markdown",
   "metadata": {},
   "source": [
    "#### Pour la prochaine session, c'est à dire la fonctionnalité 3 : trigramme, il faut voir le trigramme, comme un digramme avec une dimension supplémentaire. (3d)"
   ]
  },
  {
   "cell_type": "markdown",
   "metadata": {},
   "source": [
    "# Fonctionnalité 3 : Trigramme"
   ]
  },
  {
   "cell_type": "markdown",
   "metadata": {},
   "source": [
    "### A) Definition des fonctions couple, recupereCouple et creerDigramme"
   ]
  },
  {
   "cell_type": "markdown",
   "metadata": {},
   "source": [
    "#### Cette fonction permet à partir d'une liste de caractères comme [\"a\",\"b\",c\"] de donner une nouvelle liste [\"aa\",\"ab\",\"ac\",\"ba\",\"bb\",\"bc\",\"ca\",\"cb\",\"cc\"] avec tous les couples possibles"
   ]
  },
  {
   "cell_type": "code",
   "execution_count": 18,
   "metadata": {},
   "outputs": [],
   "source": [
    "def couple(liste) : # permet de créer une liste de couple de caractères de l'alphabet du genre aa ; ab ; ac...\n",
    "    res = []\n",
    "    for lettre in liste :\n",
    "        for x in liste :\n",
    "            res.append(lettre+x)\n",
    "    return res"
   ]
  },
  {
   "cell_type": "markdown",
   "metadata": {},
   "source": [
    "#### Cette fonction permet de casser un mot en tous les couples de lettres consécutives qui le compose "
   ]
  },
  {
   "cell_type": "code",
   "execution_count": 19,
   "metadata": {},
   "outputs": [],
   "source": [
    "def recupereCouple(mot): #permet de convertir \"Salut\" en \"sa ; al ; lu ; ut\" ( on le casse en couple de lettres )\n",
    "    mot = mot.lower()\n",
    "    return [''.join(pair) for pair in zip(mot[:-1], mot[1:])]"
   ]
  },
  {
   "cell_type": "markdown",
   "metadata": {},
   "source": [
    "#### Cette fonction permet de stocker tous les couples de lettres contenus dans un dictionnaire"
   ]
  },
  {
   "cell_type": "code",
   "execution_count": 20,
   "metadata": {},
   "outputs": [],
   "source": [
    "def stockCouples(dico) :\n",
    "    res = []\n",
    "    for mot in dico :\n",
    "        res = res + recupereCouple(mot)\n",
    "    return res"
   ]
  },
  {
   "cell_type": "markdown",
   "metadata": {},
   "source": [
    "### B) Definition des fonctions motTrigramme, normaliserTrigramme et creerTrigramme"
   ]
  },
  {
   "cell_type": "markdown",
   "metadata": {},
   "source": [
    "#### La fonction motTrigramme permet de remplir un dataframe à partir d'un mot donné ( sans normalisation )"
   ]
  },
  {
   "cell_type": "code",
   "execution_count": 21,
   "metadata": {},
   "outputs": [],
   "source": [
    "def motTrigramme(mot,dataframe):\n",
    "    mot = mot.lower() \n",
    "    lmot = recupereCouple(mot) # on convertit le mot en une liste de couples de lettres\n",
    "    lmot = list(set(lmot)) # permet de supprimer les doublons de la liste \n",
    "    dataframe['fin'][lmot[-1]]+=1\n",
    "    for i in lmot :\n",
    "        for j in range(len(mot)-2) :\n",
    "            if i==(mot[j]+mot[j+1]):\n",
    "                dataframe[mot[j+2]][i] += 1"
   ]
  },
  {
   "cell_type": "markdown",
   "metadata": {},
   "source": [
    "#### La fonction normaliserTrigramme est analogue à normaliserDigramme ( même principe )"
   ]
  },
  {
   "cell_type": "code",
   "execution_count": 22,
   "metadata": {},
   "outputs": [],
   "source": [
    "def normaliserTrigramme(dataframe):\n",
    "    indexs = dataframe.index.values.tolist() \n",
    "    for indexrow in indexs:\n",
    "        somme = dataframe.loc[indexrow].sum() \n",
    "        if somme != 0:\n",
    "            dataframe.loc[indexrow]/= somme"
   ]
  },
  {
   "cell_type": "markdown",
   "metadata": {},
   "source": [
    "#### > Il s'agit de la fonction finale, cette fonction permet de créer un Trigramme normalisé à partir d'un alphabet et d'un dictionnaire de mot ( liste de mots composés exclusivement de lettre de l'alphabet ) <"
   ]
  },
  {
   "cell_type": "code",
   "execution_count": 23,
   "metadata": {},
   "outputs": [],
   "source": [
    "def creerTrigramme(dic): # permet de créer le tableau trigramme à partir d'un dictionnaire\n",
    "    global alphabet\n",
    "    nom_lignes = couple(alphabet)\n",
    "    lettres = list(alphabet)\n",
    "    tableau = np.zeros((len(alphabet)*len(alphabet),len(alphabet)+1))\n",
    "    dataframe = pd.DataFrame(tableau, index = (nom_lignes), columns = (lettres + [\"fin\"]))\n",
    "    for mot in dic :\n",
    "        motTrigramme(mot,dataframe)\n",
    "    normaliserTrigramme(dataframe)\n",
    "    return(dataframe) # on retourne le digramme fini"
   ]
  },
  {
   "cell_type": "markdown",
   "metadata": {},
   "source": [
    "### C) Définition des fonctions sortirLettreAlea2 et creerMotTrigramme"
   ]
  },
  {
   "cell_type": "markdown",
   "metadata": {},
   "source": [
    "#### Cette fonction permet en fonction de notre couple de lettres ( qui peut être ab, bc, ca ect...), de générer la lettre suivante à partir des probabilités contenu dans le trigramme."
   ]
  },
  {
   "cell_type": "code",
   "execution_count": 24,
   "metadata": {},
   "outputs": [],
   "source": [
    "def sortirLettreAlea2(couple_actuel,trigramme): \n",
    "    listes_des_choix_suivants = trigramme.columns.tolist() # on liste toutes les lettres qui peuvent suivre comme a,b,.. et fin\n",
    "    liste_des_proba = trigramme.loc[str(couple_actuel)].tolist() # on liste les proba liees a chaque choix\n",
    "    lettre_suivante = np.random.choice(listes_des_choix_suivants, p=liste_des_proba) # on pioche une lettre selon les proba\n",
    "    return(lettre_suivante)"
   ]
  },
  {
   "cell_type": "markdown",
   "metadata": {},
   "source": [
    "#### > Cette fonction est la fonction finale de l'exercice, elle permet de générer un mot suivant la méthode des Trigrammes ! Par convention les deux premières lettres seront déterminées en suivant la méthode des digrammes"
   ]
  },
  {
   "cell_type": "code",
   "execution_count": 25,
   "metadata": {},
   "outputs": [],
   "source": [
    "def creerMotAleaTrigramme1(digramme,trigramme):\n",
    "    global taillemax\n",
    "    res = [sortirLettreAlea('debut',digramme)]\n",
    "    deuxieme_lettre = sortirLettreAlea(res[-1],digramme)\n",
    "    res.append(deuxieme_lettre)\n",
    "    while res[-1] != \"fin\" and len(res[:-1])<= taillemax:\n",
    "        if trigramme.loc[res[-2]+res[-1]].sum()!=1 : # si on a jamais rencontré le couple généré par le digramme \n",
    "            l=\"fin\"\n",
    "        else :\n",
    "            l = sortirLettreAlea2(res[-2]+res[-1],trigramme)\n",
    "        res.append(l)\n",
    "    res = res[0:-1]\n",
    "    return \"\".join(res)"
   ]
  },
  {
   "cell_type": "markdown",
   "metadata": {},
   "source": [
    "#### > Permet de créer un mot en utilisant uniquement le trigramme et on prendra les deux premières lettres parmi les couples rencontrés dans le dictionnaire"
   ]
  },
  {
   "cell_type": "code",
   "execution_count": 26,
   "metadata": {},
   "outputs": [],
   "source": [
    "def creerMotAleaTrigramme2(dico,trigramme):\n",
    "    global taillemax  \n",
    "    stockage = stockCouples(dico) #on recupere tous les couples du dico\n",
    "    i = random.randint(0, len(stockage)-1) # on genere les deux premieres lettres en prenant aleatoirement un couple stocké\n",
    "    res = []\n",
    "    res.append(stockage[i][0]) # on stocke la premiere lettre\n",
    "    res.append(stockage[i][1]) # on stocke la deuxieme lettre\n",
    "    while res[-1] != \"fin\" and len(res[:-1])<= taillemax:\n",
    "        if trigramme.loc[res[-2]+res[-1]].sum()!=1 : # si on a jamais rencontré le couple généré par le digramme \n",
    "            l=\"fin\"\n",
    "        else :\n",
    "            l = sortirLettreAlea2(res[-2]+res[-1],trigramme)\n",
    "        res.append(l)\n",
    "    res = res[0:-1]\n",
    "    return \"\".join(res)"
   ]
  },
  {
   "cell_type": "markdown",
   "metadata": {},
   "source": [
    "##### Voici un exemple de trigramme réalisé ( avec le digramme en supplément ):"
   ]
  },
  {
   "cell_type": "code",
   "execution_count": 27,
   "metadata": {},
   "outputs": [
    {
     "data": {
      "text/plain": [
       "'path2 = \\'data/fr/test.txt\\'\\n# ici les mots contenus sont \"Salut, Arbre, Banane, Joshua, Cem, Mlamali, Mlachahe, Haligur, Said-Salimo, Bonacorsi\"\\ndictionnaire_trig = creerDictionnaire(path2)\\ndictionnaire_trig'"
      ]
     },
     "execution_count": 27,
     "metadata": {},
     "output_type": "execute_result"
    }
   ],
   "source": [
    "'''path2 = 'data/fr/test.txt'\n",
    "# ici les mots contenus sont \"Salut, Arbre, Banane, Joshua, Cem, Mlamali, Mlachahe, Haligur, Said-Salimo, Bonacorsi\"\n",
    "dictionnaire_trig = creerDictionnaire(path2)\n",
    "dictionnaire_trig'''"
   ]
  },
  {
   "cell_type": "code",
   "execution_count": 28,
   "metadata": {
    "scrolled": true
   },
   "outputs": [
    {
     "data": {
      "text/plain": [
       "'digramme_test = creerDigramme(dictionnaire_trig)\\ndigramme_test.head()'"
      ]
     },
     "execution_count": 28,
     "metadata": {},
     "output_type": "execute_result"
    }
   ],
   "source": [
    "'''digramme_test = creerDigramme(dictionnaire_trig)\n",
    "digramme_test.head()'''"
   ]
  },
  {
   "cell_type": "code",
   "execution_count": 29,
   "metadata": {
    "scrolled": true
   },
   "outputs": [
    {
     "data": {
      "text/plain": [
       "'trigramme_test = creerTrigramme(dictionnaire_trig)\\ntrigramme_test.head()'"
      ]
     },
     "execution_count": 29,
     "metadata": {},
     "output_type": "execute_result"
    }
   ],
   "source": [
    "'''trigramme_test = creerTrigramme(dictionnaire_trig)\n",
    "trigramme_test.head()'''"
   ]
  },
  {
   "cell_type": "markdown",
   "metadata": {},
   "source": [
    "##### et voici 10 mots réalisés suivant l'utilisation de la méthode des Trigrammes avec digramme :"
   ]
  },
  {
   "cell_type": "code",
   "execution_count": 30,
   "metadata": {
    "scrolled": true
   },
   "outputs": [
    {
     "data": {
      "text/plain": [
       "'for compteur in range(10) :\\n    exemple = creerMotAleaTrigramme1(digramme_test,trigramme_test)\\n    exemple = exemple.capitalize() # Mettre la premiere lettre en majuscule\\n    print(exemple)'"
      ]
     },
     "execution_count": 30,
     "metadata": {},
     "output_type": "execute_result"
    }
   ],
   "source": [
    "'''for compteur in range(10) :\n",
    "    exemple = creerMotAleaTrigramme1(digramme_test,trigramme_test)\n",
    "    exemple = exemple.capitalize() # Mettre la premiere lettre en majuscule\n",
    "    print(exemple)'''"
   ]
  },
  {
   "cell_type": "markdown",
   "metadata": {},
   "source": [
    "##### voici 1 mot réalisés suivant l'utilisation de la méthode des Trigrammes sans digramme :"
   ]
  },
  {
   "cell_type": "code",
   "execution_count": 31,
   "metadata": {
    "scrolled": true
   },
   "outputs": [
    {
     "data": {
      "text/plain": [
       "'exemple = creerMotAleaTrigramme2(dictionnaire_trig,trigramme_test)\\nexemple = exemple.capitalize() # Mettre la premiere lettre en majuscule\\nprint(exemple)'"
      ]
     },
     "execution_count": 31,
     "metadata": {},
     "output_type": "execute_result"
    }
   ],
   "source": [
    "'''exemple = creerMotAleaTrigramme2(dictionnaire_trig,trigramme_test)\n",
    "exemple = exemple.capitalize() # Mettre la premiere lettre en majuscule\n",
    "print(exemple)'''"
   ]
  },
  {
   "cell_type": "markdown",
   "metadata": {},
   "source": [
    "# Fonctionnalité 3 : Trigramme"
   ]
  },
  {
   "cell_type": "markdown",
   "metadata": {},
   "source": [
    "### A) Definition des fonctions couple, recupereCouple et creerDigramme"
   ]
  },
  {
   "cell_type": "code",
   "execution_count": null,
   "metadata": {},
   "outputs": [],
   "source": []
  },
  {
   "cell_type": "code",
   "execution_count": null,
   "metadata": {},
   "outputs": [],
   "source": []
  },
  {
   "cell_type": "code",
   "execution_count": null,
   "metadata": {},
   "outputs": [],
   "source": []
  }
 ],
 "metadata": {
  "kernelspec": {
   "display_name": "Python 3",
   "language": "python",
   "name": "python3"
  },
  "language_info": {
   "codemirror_mode": {
    "name": "ipython",
    "version": 3
   },
   "file_extension": ".py",
   "mimetype": "text/x-python",
   "name": "python",
   "nbconvert_exporter": "python",
   "pygments_lexer": "ipython3",
   "version": "3.8.5"
  }
 },
 "nbformat": 4,
 "nbformat_minor": 4
}
